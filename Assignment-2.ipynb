{
 "cells": [
  {
   "cell_type": "markdown",
   "metadata": {},
   "source": [
    "# Amy Huynh : Assignment 2\n",
    "\n",
    "__Due date__: April 25, 2018 at 10 pm\n",
    "__Submission__: IPython notebook to GauchoSpace\n",
    "\n",
    "We have been building up to creating components for a dashboard app in Jupyter notebook:\n",
    "\n",
    "- Data downloading function: `get_nba_data()` in a `03-Data-collection-and-manipulation.ipynb`. \n",
    "- Accessing pandas data frame and creating dictionary structures in `04-Pandas-Data-Frame.ipynb` and `05-Data-Frame-and-Visualization.ipynb`.\n",
    "- Creating widgets for interactivity: `05-Data-Frame-and-Visualization.ipynb`.\n",
    "- Plotting visualizations with Matplotlib and Seaborn: `05-Data-Frame-and-Visualization.ipynb`.\n",
    "\n",
    "We can put these components together to create an interactive dashboard for creating something similar to the R package: https://github.com/toddwschneider/ballr\n",
    "\n",
    "Your assignment is to create an interactive dashboard.\n",
    "\n",
    "It doesn't have to be exactly the same as the package or what I have proposed. If you would like to create another visualization, that would be great as well. I will refer to __default option__ as continuing to do what we started in class: dashboard of shotchart similar to what [BallR package](https://github.com/toddwschneider/ballr) does. I will refer to __open-ended option__ as creating a dashboard of your choice.\n",
    "\n",
    "Below, I specify some necessary components to your dashboard."
   ]
  },
  {
   "cell_type": "markdown",
   "metadata": {},
   "source": [
    "## Problem 1: Data Download\n",
    "\n",
    "__Default option__: you can use the `get_nba_data()` function. No additional work is needed."
   ]
  },
  {
   "cell_type": "code",
   "execution_count": null,
   "metadata": {},
   "outputs": [],
   "source": [
    "# from Lecture Four:\n",
    "\n",
    "import pandas as pd\n",
    "\n",
    "def get_nba_data(endpt, params, return_url=False):\n",
    "\n",
    "    ## endpt: https://github.com/seemethere/nba_py/wiki/stats.nba.com-Endpoint-Documentation\n",
    "    ## params: dictionary of parameters: i.e., {'LeagueID':'00'}\n",
    "    \n",
    "    from pandas import DataFrame\n",
    "    from urllib.parse import urlencode\n",
    "    import json\n",
    "    \n",
    "    useragent = \"\\\"Mozilla/5.0 (Macintosh; Intel Mac OS X 10_11_2) AppleWebKit/601.3.9 (KHTML, like Gecko) Version/9.0.2 Safari/601.3.9\\\"\"\n",
    "    dataurl = \"\\\"\" + \"http://stats.nba.com/stats/\" + endpt + \"?\" + urlencode(params) + \"\\\"\"\n",
    "    \n",
    "    # for debugging: just return the url\n",
    "    if return_url:\n",
    "        return(dataurl)\n",
    "    \n",
    "    jsonstr = !wget -q -O - --user-agent={useragent} {dataurl}\n",
    "    \n",
    "    data = json.loads(jsonstr[0])\n",
    "    \n",
    "    h = data['resultSets'][0]['headers']\n",
    "    d = data['resultSets'][0]['rowSet']\n",
    "    \n",
    "    return(DataFrame(d, columns=h))"
   ]
  },
  {
   "cell_type": "code",
   "execution_count": null,
   "metadata": {},
   "outputs": [],
   "source": [
    "# Getting the Teams:\n",
    "\n",
    "params = {'LeagueID':'00'}\n",
    "teams = get_nba_data('commonTeamYears', params)\n",
    "\n",
    "teams"
   ]
  },
  {
   "cell_type": "code",
   "execution_count": null,
   "metadata": {},
   "outputs": [],
   "source": [
    "# Getting the Players:\n",
    "\n",
    "params = {'LeagueID':'00', 'Season': '2016-17', 'IsOnlyCurrentSeason': '0'}\n",
    "players = get_nba_data('commonallplayers', params)\n",
    "\n",
    "players"
   ]
  },
  {
   "cell_type": "markdown",
   "metadata": {},
   "source": [
    "## Problem 2: Creating interactive widgets & Problem 3: Downloading data with changing widget states\n",
    "\n",
    "combined problems 2 and 3 into one area // created interactive widgets to auto fetch data for us using the 'observe' and 'on_click' functions"
   ]
  },
  {
   "cell_type": "code",
   "execution_count": null,
   "metadata": {},
   "outputs": [],
   "source": [
    "team_names = players[['TEAM_ABBREVIATION', 'TEAM_NAME']].drop_duplicates()#.set_index('TEAM_ABBREVIATION')\n",
    "team_names.head()"
   ]
  },
  {
   "cell_type": "code",
   "execution_count": null,
   "metadata": {},
   "outputs": [],
   "source": [
    "teams_full = pd.merge(teams, team_names, left_on='ABBREVIATION', right_on='TEAM_ABBREVIATION')\n",
    "\n",
    "teams_full = teams_full.sort('MIN_YEAR')\n",
    "teams_full"
   ]
  },
  {
   "cell_type": "code",
   "execution_count": null,
   "metadata": {},
   "outputs": [],
   "source": [
    "start_of_team_text = teams_full.MIN_YEAR\n",
    "start_of_team_text = start_of_team_text\n",
    "#start_of_team_text\n",
    "\n",
    "start_of_team_dd = dict(zip(start_of_team_text, teams_full.MIN_YEAR))\n",
    "start_of_team_dd"
   ]
  },
  {
   "cell_type": "code",
   "execution_count": null,
   "metadata": {},
   "outputs": [],
   "source": [
    "team_dd = dict()\n",
    "\n",
    "for t, p in teams_full.groupby('MIN_YEAR'):\n",
    "    \n",
    "    team_dd[t] = dict(zip(p.TEAM_ABBREVIATION + ', ' + p.TEAM_NAME, p.TEAM_ID))\n",
    "team_dd"
   ]
  },
  {
   "cell_type": "code",
   "execution_count": null,
   "metadata": {},
   "outputs": [],
   "source": [
    "player_dd = dict()\n",
    "\n",
    "for t, p in players.groupby('TEAM_ID'):\n",
    "    player_dd[t] = dict(zip(p.DISPLAY_FIRST_LAST, p.PERSON_ID))\n",
    "\n",
    "player_dd[1610612765]\n",
    "player_dd"
   ]
  },
  {
   "cell_type": "code",
   "execution_count": null,
   "metadata": {},
   "outputs": [],
   "source": [
    "# Building Widgets:\n",
    "from ipywidgets import interact, FloatSlider, Dropdown, Button\n",
    "\n",
    "select = '1976'\n",
    "\n",
    "start_menu= Dropdown(options = start_of_team_dd, label = select)\n",
    "team_menu = Dropdown(options = team_dd[start_of_team_dd[select]])\n",
    "\n",
    "#team_value = team_menu.value\n",
    "player_menu = Dropdown(options=player_dd[team_menu.value])\n",
    "\n",
    "fetch_button = Button(description='Get Data!', icon='check')\n",
    "\n",
    "display(start_menu, team_menu, player_menu, fetch_button)\n",
    "\n",
    "\n",
    "def switcharoo(change):\n",
    "    team_menu.index = None\n",
    "    team_menu.options = team_dd[change['new']]\n",
    "\n",
    "def switcharoo2(change):\n",
    "    player_menu.index = None\n",
    "    if team_menu.value is not None:\n",
    "        player_menu.options = player_dd[team_menu.value]\n",
    "\n",
    "start_menu.observe(switcharoo, names = 'value')  \n",
    "team_menu.observe(switcharoo2, names = 'value')\n",
    "\n",
    "def get_data(change):\n",
    "    print(start_menu.value, team_menu.value, player_menu.value)\n",
    "    \n",
    "fetch_button.on_click(get_data)"
   ]
  },
  {
   "cell_type": "code",
   "execution_count": null,
   "metadata": {},
   "outputs": [],
   "source": [
    "# Creating another function to easily fetch the desired data for us:\n",
    "def fetch_data(change):\n",
    "    params = {'PlayerID':player_menu.value,\n",
    "          'PlayerPosition':'',\n",
    "          'Season':'2016-17',\n",
    "          'ContextMeasure':'FGA',\n",
    "          'DateFrom':'',\n",
    "          'DateTo':'',\n",
    "          'GameID':'',\n",
    "          'GameSegment':'',\n",
    "          'LastNGames':'0',\n",
    "          'LeagueID':'00',\n",
    "          'Location':'',\n",
    "          'Month':'0',\n",
    "          'OpponentTeamID':'0',\n",
    "          'Outcome':'',\n",
    "          'Period':'0',\n",
    "          'Position':'',\n",
    "          'RookieYear':'',\n",
    "          'SeasonSegment':'',\n",
    "          'SeasonType':'Regular Season',\n",
    "          'TeamID': team_menu.value,\n",
    "          'VsConference':'',\n",
    "          'VsDivision':''}\n",
    "    shot_stats = get_nba_data('shotchartdetail', params)\n",
    "    print (shot_stats.head(10)) # show only the first 10 rows for now\n",
    "\n",
    "fetch_button2 = Button(description='Get Data!', icon='check')\n",
    "display(fetch_button2)\n",
    "\n",
    "fetch_button2.on_click(fetch_data)"
   ]
  },
  {
   "cell_type": "markdown",
   "metadata": {},
   "source": [
    "## Problem 4: Data transformation and visualization\n",
    "\n",
    "__Default option__: create at least two data transformation using split-apply-combine approach. Some ideas are, \n",
    "\n",
    "- What is the shooting average against different teams? You would split based on opposing team, compute the average, and plot a bar chart. \n",
    "\n",
    "- What is the shooting average over different periods per game? You would split based on periods and game, then plot the changing shooting average over periods. Is this helpful? Why? Why not?\n",
    "\n",
    "- Any other setting in which you would need to split-apply-combine to calculate a summary statistic.\n",
    "\n",
    "- A setting of your choosing\n",
    "\n",
    "Plot your result\n",
    "\n",
    "__Open-ended option__: create at least one data transformation using split-apply-combine approach.\n",
    "\n",
    "Plot your result"
   ]
  },
  {
   "cell_type": "markdown",
   "metadata": {},
   "source": [
    "#### Transformation (1): Player Shot Comparison\n",
    "James Harden v.s. Stephen Curry"
   ]
  },
  {
   "cell_type": "code",
   "execution_count": null,
   "metadata": {},
   "outputs": [],
   "source": [
    "# James Harden Shot Data:\n",
    "\n",
    "## param values for team id and player id found from the drop down widget function created above\n",
    "\n",
    "harden_params = {'PlayerID': '201935',\n",
    "          'PlayerPosition':'',\n",
    "          'Season':'2016-17',\n",
    "          'ContextMeasure':'FGA',\n",
    "          'DateFrom':'',\n",
    "          'DateTo':'',\n",
    "          'GameID':'',\n",
    "          'GameSegment':'',\n",
    "          'LastNGames':'0',\n",
    "          'LeagueID':'00',\n",
    "          'Location':'',\n",
    "          'Month':'0',\n",
    "          'OpponentTeamID':'0',\n",
    "          'Outcome':'',\n",
    "          'Period':'0',\n",
    "          'Position':'',\n",
    "          'RookieYear':'',\n",
    "          'SeasonSegment':'',\n",
    "          'SeasonType':'Regular Season',\n",
    "          'TeamID': '1610612745',\n",
    "          'VsConference':'',\n",
    "          'VsDivision':''}\n",
    "\n",
    "harden_shots = get_nba_data('shotchartdetail', harden_params)\n",
    "#harden_shots.head(10)\n",
    "\n",
    "for r, d in harden_shots.groupby('PERIOD'):\n",
    "    print(\"***\", r)\n",
    "    print(d.head())"
   ]
  },
  {
   "cell_type": "code",
   "execution_count": null,
   "metadata": {},
   "outputs": [],
   "source": [
    "# average minutes remaining per period for Harden\n",
    "harden_shots.groupby('PERIOD')['MINUTES_REMAINING'].mean()"
   ]
  },
  {
   "cell_type": "code",
   "execution_count": null,
   "metadata": {},
   "outputs": [],
   "source": [
    "# Stephen Curry Shot Data:\n",
    "curry_params = {'PlayerID': '201939',\n",
    "          'PlayerPosition':'',\n",
    "          'Season':'2016-17',\n",
    "          'ContextMeasure':'FGA',\n",
    "          'DateFrom':'',\n",
    "          'DateTo':'',\n",
    "          'GameID':'',\n",
    "          'GameSegment':'',\n",
    "          'LastNGames':'0',\n",
    "          'LeagueID':'00',\n",
    "          'Location':'',\n",
    "          'Month':'0',\n",
    "          'OpponentTeamID':'0',\n",
    "          'Outcome':'',\n",
    "          'Period':'0',\n",
    "          'Position':'',\n",
    "          'RookieYear':'',\n",
    "          'SeasonSegment':'',\n",
    "          'SeasonType':'Regular Season',\n",
    "          'TeamID': '1610612744',\n",
    "          'VsConference':'',\n",
    "          'VsDivision':''}\n",
    "\n",
    "curry_shots = get_nba_data('shotchartdetail', curry_params)\n",
    "#curry_shots.head(10)"
   ]
  },
  {
   "cell_type": "code",
   "execution_count": null,
   "metadata": {},
   "outputs": [],
   "source": [
    "for r, d in curry_shots.groupby('PERIOD'):\n",
    "    print(\"***\", r)\n",
    "    print(d.head())"
   ]
  },
  {
   "cell_type": "code",
   "execution_count": null,
   "metadata": {},
   "outputs": [],
   "source": [
    "# average minutes remaining per period for Curry\n",
    "curry_shots.groupby('PERIOD')['MINUTES_REMAINING'].mean()"
   ]
  },
  {
   "cell_type": "code",
   "execution_count": null,
   "metadata": {},
   "outputs": [],
   "source": [
    "avg_min = {\n",
    "    '1':[5.040909, 4.972281],\n",
    "    '2': [2.355263, 2.631769],\n",
    "    '3': [5.274633, 4.590164],\n",
    "    '4': [3.434783, 3.461929],\n",
    "    '5': [2.571429, 1.500000],\n",
    "    '6': [1.250000, 4.000000]\n",
    "}\n",
    "index = [\"Harden\", \"Curry\"]\n",
    "avg_min_df = pd.DataFrame(avg_min, index = index)\n",
    "avg_min_df"
   ]
  },
  {
   "cell_type": "code",
   "execution_count": null,
   "metadata": {},
   "outputs": [],
   "source": [
    "avg_min_df.plot.bar(figsize = (8, 6))"
   ]
  },
  {
   "cell_type": "code",
   "execution_count": null,
   "metadata": {},
   "outputs": [],
   "source": [
    "# Half Court Graph from Lecture 05\n",
    "\n",
    "%matplotlib inline\n",
    "import matplotlib.pyplot as plt\n",
    "import pandas as pd\n",
    "import seaborn as sns\n",
    "\n",
    "## code is from http://savvastjortjoglou.com/nba-shot-sharts.html\n",
    "def draw_court(ax=None, color='black', lw=1, outer_lines=False):\n",
    "    \n",
    "    from matplotlib.patches import Circle, Rectangle, Arc\n",
    "    from matplotlib.pyplot import gca\n",
    "    \n",
    "    # If an axes object isn't provided to plot onto, just get current one\n",
    "    if ax is None:\n",
    "        ax = gca()\n",
    "\n",
    "    # Create the various parts of an NBA basketball court\n",
    "\n",
    "    # Create the basketball hoop\n",
    "    # Diameter of a hoop is 18\" so it has a radius of 9\", which is a value\n",
    "    # 7.5 in our coordinate system\n",
    "    hoop = Circle((0, 0), radius=7.5, linewidth=lw, color=color, fill=False)\n",
    "\n",
    "    # Create backboard\n",
    "    backboard = Rectangle((-30, -7.5), 60, 0, linewidth=lw, color=color)\n",
    "\n",
    "    # The paint\n",
    "    # Create the outer box 0f the paint, width=16ft, height=19ft\n",
    "    outer_box = Rectangle((-80, -47.5), 160, 190, linewidth=lw, color=color,\n",
    "                          fill=False)\n",
    "    # Create the inner box of the paint, widt=12ft, height=19ft\n",
    "    inner_box = Rectangle((-60, -47.5), 120, 190, linewidth=lw, color=color,\n",
    "                          fill=False)\n",
    "\n",
    "    # Create free throw top arc\n",
    "    top_free_throw = Arc((0, 142.5), 120, 120, theta1=0, theta2=180,\n",
    "                         linewidth=lw, color=color, fill=False)\n",
    "    # Create free throw bottom arc\n",
    "    bottom_free_throw = Arc((0, 142.5), 120, 120, theta1=180, theta2=0,\n",
    "                            linewidth=lw, color=color, linestyle='dashed')\n",
    "    # Restricted Zone, it is an arc with 4ft radius from center of the hoop\n",
    "    restricted = Arc((0, 0), 80, 80, theta1=0, theta2=180, linewidth=lw,\n",
    "                     color=color)\n",
    "\n",
    "    # Three point line\n",
    "    # Create the side 3pt lines, they are 14ft long before they begin to arc\n",
    "    corner_three_a = Rectangle((-219, -47.5), 0, 140, linewidth=lw,\n",
    "                               color=color)\n",
    "    corner_three_b = Rectangle((219, -47.5), 0, 140, linewidth=lw, color=color)\n",
    "    # 3pt arc - center of arc will be the hoop, arc is 23'9\" away from hoop\n",
    "    # I just played around with the theta values until they lined up with the \n",
    "    # threes\n",
    "    three_arc = Arc((0, 0), 475, 475, theta1=22.5, theta2=157.5, linewidth=lw,\n",
    "                    color=color)\n",
    "\n",
    "    # Center Court\n",
    "    center_outer_arc = Arc((0, 422.5), 120, 120, theta1=180, theta2=0,\n",
    "                           linewidth=lw, color=color)\n",
    "    center_inner_arc = Arc((0, 422.5), 40, 40, theta1=180, theta2=0,\n",
    "                           linewidth=lw, color=color)\n",
    "\n",
    "    # List of the court elements to be plotted onto the axes\n",
    "    court_elements = [hoop, backboard, outer_box, inner_box, top_free_throw,\n",
    "                      bottom_free_throw, restricted, corner_three_a,\n",
    "                      corner_three_b, three_arc, center_outer_arc,\n",
    "                      center_inner_arc]\n",
    "\n",
    "    if outer_lines:\n",
    "        # Draw the half court line, baseline and side out bound lines\n",
    "        outer_lines = Rectangle((-250, -47.5), 500, 470, linewidth=lw,\n",
    "                                color=color, fill=False)\n",
    "        court_elements.append(outer_lines)\n",
    "\n",
    "    # Add the court elements onto the axes\n",
    "    for element in court_elements:\n",
    "        ax.add_patch(element)\n",
    "\n",
    "    return ax\n"
   ]
  },
  {
   "cell_type": "code",
   "execution_count": null,
   "metadata": {},
   "outputs": [],
   "source": [
    "# Shot Graph Comparing the Two Players \n",
    "\n",
    "plt.figure(figsize=(12,11))\n",
    "plt.scatter(harden_shots.LOC_X, harden_shots.LOC_Y, color = \"red\")\n",
    "plt.scatter(curry_shots.LOC_X, curry_shots.LOC_Y, color = \"blue\")\n",
    "draw_court(outer_lines=True)\n",
    "\n",
    "plt.xlim(300,-300)\n",
    "plt.ylim(-100,500)\n",
    "plt.show()"
   ]
  },
  {
   "cell_type": "markdown",
   "metadata": {},
   "source": [
    "### Transformation (2) : Average Shots Distance Per Game of Stephen Curry"
   ]
  },
  {
   "cell_type": "code",
   "execution_count": null,
   "metadata": {},
   "outputs": [],
   "source": [
    "# we already have Curry's shot data pulled up from above\n",
    "curry_shots.head()"
   ]
  },
  {
   "cell_type": "code",
   "execution_count": null,
   "metadata": {},
   "outputs": [],
   "source": [
    "# group data frame for game period first\n",
    "\n",
    "for r, curry_shots_per_game in curry_shots.groupby('GAME_ID'):\n",
    "    print(\"***\", r)\n",
    "    print(curry_shots_per_game.head())"
   ]
  },
  {
   "cell_type": "code",
   "execution_count": null,
   "metadata": {},
   "outputs": [],
   "source": [
    "curry_shots.groupby('GAME_ID')['SHOT_DISTANCE'].mean().plot()"
   ]
  },
  {
   "cell_type": "code",
   "execution_count": null,
   "metadata": {},
   "outputs": [],
   "source": []
  }
 ],
 "metadata": {
  "language_info": {
   "name": "python",
   "pygments_lexer": "ipython3"
  }
 },
 "nbformat": 4,
 "nbformat_minor": 2
}
